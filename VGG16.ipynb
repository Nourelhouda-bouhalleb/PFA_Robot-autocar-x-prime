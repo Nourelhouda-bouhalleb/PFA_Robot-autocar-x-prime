import cv2
import numpy as np
import os
import matplotlib.pyplot as plt
from sklearn.model_selection import train_test_split
from tensorflow.keras.models import Sequential
from tensorflow.keras.layers import Dense, Flatten
from tensorflow.keras.optimizers import Adam
from tensorflow.keras.applications import VGG16

# Définition des classes
CLASSES = ["left", "right", "wall", "corridor"]

# Chargement des données et prétraitement
data = []
for i, class_name in enumerate(CLASSES):
    folder_path = f"/content/drive/MyDrive/dossier/{class_name}"
    for filename in os.listdir(folder_path):
        img = cv2.imread(os.path.join(folder_path, filename))
        img = cv2.resize(img, (224, 224))
        img = (img / 255.0 - 0.5) * 2
        data.append((img, i))

X = np.array([d[0] for d in data])
y = np.array([d[1] for d in data])

# Affichage d'exemples d'images de chaque classe
fig, axs = plt.subplots(len(CLASSES), 3, figsize=(10, 15))
for i, class_name in enumerate(CLASSES):
    class_images = [d[0] for d in data if d[1] == i][:3]  # Prendre les trois premières images de chaque classe
    for j, img in enumerate(class_images):
        axs[i, j].set_title(class_name)
        axs[i, j].axis('off')
plt.show()

# Diviser les données en ensembles d'entraînement et de test
X_train, X_test, y_train, y_test = train_test_split(X, y, test_size=0.2, random_state=42)

# Créer le modèle avec VGG16
model = Sequential([
    VGG16(weights='imagenet',input_shape=(224,224,3), include_top=False),
    Flatten(),
    Dense(128, activation='relu'),
    Dense(len(CLASSES), activation='softmax')
])

# Compiler le modèle
model.compile(optimizer=Adam(), loss='sparse_categorical_crossentropy', metrics=['accuracy'])

# Entraîner le modèle
history = model.fit(X_train, y_train, epochs=10, validation_data=(X_test, y_test))

# Visualiser les données d'entraînement
plt.plot(history.history['accuracy'], label='accuracy')
plt.plot(history.history['val_accuracy'], label = 'val_accuracy')
plt.xlabel('Epoch')
plt.ylabel('Accuracy')
plt.ylim([0, 1])
plt.legend(loc='lower right')
plt.show()
